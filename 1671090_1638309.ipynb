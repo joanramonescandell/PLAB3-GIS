{
 "cells": [
  {
   "cell_type": "markdown",
   "metadata": {},
   "source": [
    "<div style=\"width: 50%; clear: both;\">\n",
    "    <div style=\"float: left; width: 50%;\">\n",
    "       <img src=\"https://www.uab.cat/servlet/BlobServer?blobkey=id&blobnocache=true&blobwhere=1345733274171&blobheader=application&blobcol=urlimg&blobtable=Imatge\", align=\"left\">\n",
    "    </div>\n",
    "</div>\n",
    "\n",
    "<div style=\"float: right; width: 50%;\">\n",
    "    <p style=\"margin: 0; padding-top: 22px; text-align:right;\">Garantia de la Informació i Seguretat</p>\n",
    "    <p style=\"margin: 0; text-align:right;\">Grau en Enginyeria Informàtica</p>\n",
    "    <p style=\"margin: 0; text-align:right; padding-button: 100px;\">Curs 2024-2025</p>\n",
    "</div>\n",
    "\n",
    "</div>\n",
    "<div style=\"width: 100%; clear: both;\">\n",
    "<div style=\"width:100%;\">&nbsp;</div>"
   ]
  },
  {
   "cell_type": "markdown",
   "metadata": {
    "jp-MarkdownHeadingCollapsed": true
   },
   "source": [
    "## IMPORTANT!\n",
    "\n",
    "**Cal desar i lliurar la pràctica posant el grup, noms i NIUs dels membres del grup:**\n",
    "\n",
    "NÚMERO GRUP = B8\n",
    "\n",
    "NIU_ESTUDIANT_1 = 1638309\n",
    "\n",
    "NOM_ESTUDIANT_1 = Joan Ramon Escandell\n",
    "\n",
    "NIU_ESTUDIANT_2 = 1671090\n",
    "\n",
    "NOM_ESTUDIANT_2 = David Alexandru Crisan"
   ]
  },
  {
   "cell_type": "markdown",
   "metadata": {},
   "source": [
    "Per resoldre aquesta pràctica, heu de posar les solucions en aquest mateix\n",
    "*notebook*, a les cel·les de codi que estan en blanc habilitades per això.\n",
    "Després de cada cel·la de codi podeu posar una cel·la *markdown* a on\n",
    "podeu posar la justificació de la resposta donada a la solució. També ho podeu\n",
    "fer afegint comentaris al codi. No és\n",
    "obligatori, però sí recomanable que justifiqueu les respostes que\n",
    "doneu, ja que això facilita la correcció en cas d'una resposta incorrecta\n",
    "(podent valorar el plantejament), i pot ajudar a descartar possibles\n",
    "sospites sobre còpies.\n",
    "\n",
    "\n",
    "# Pràctica 3 - Publicació de microdades\n",
    "\n",
    "---\n",
    "\n",
    "Disposem de dades sobre l'activitat econòmica de diverses empreses de Taiwan.\n",
    "Les dades s'utilitzen per predir la fallida d'empreses i és un\n",
    "subconjunt obtingut del repositori [UCI Machine Learning\n",
    "Repository](https://archive.ics.uci.edu/ml/datasets/Taiwanese+Bankruptcy+Prediction).\n",
    "\n",
    "Suposarem que les dades no han estat prèviament anonimitzades i procedirem\n",
    "a aplicar diversos mètodes de protecció amb l'objectiu de preservar la\n",
    "privacitat de les empreses que apareixen en l'estudi. Hem limitat el\n",
    "conjunt de dades als següents atributs:\n",
    "- `'ROA (C) before interest and depreciation before interest'`\n",
    "- `'ROA (B) before interest and depreciation after tax'`\n",
    "- `'Operating Gross Margin'`\n",
    "- `'Research and development expense rate'`\n",
    "\n",
    "Tots ells són de tipus numèric (real).\n",
    "\n",
    "Podem llegir el fitxer CSV, que es troba en `data/company.csv`, com un\n",
    "`DataFrame` de *pandas* que podem guardar a la variable `df_compay`.\n"
   ]
  },
  {
   "cell_type": "code",
   "execution_count": 40,
   "metadata": {},
   "outputs": [
    {
     "name": "stdout",
     "output_type": "stream",
     "text": [
      "<class 'pandas.core.frame.DataFrame'>\n",
      "RangeIndex: 6819 entries, 0 to 6818\n",
      "Data columns (total 4 columns):\n",
      " #   Column                                                    Non-Null Count  Dtype  \n",
      "---  ------                                                    --------------  -----  \n",
      " 0    ROA(C) before interest and depreciation before interest  6819 non-null   float64\n",
      " 1    ROA(B) before interest and depreciation after tax        6819 non-null   float64\n",
      " 2    Operating Gross Margin                                   6819 non-null   float64\n",
      " 3    Research and development expense rate                    6819 non-null   float64\n",
      "dtypes: float64(4)\n",
      "memory usage: 213.2 KB\n"
     ]
    }
   ],
   "source": [
    "from typing import Dict, List\n",
    "\n",
    "import numpy as np\n",
    "import pandas as pd\n",
    "import seaborn as sns\n",
    "\n",
    "df_company = pd.read_csv(\"data/company.csv\")\n",
    "df_company.info()"
   ]
  },
  {
   "cell_type": "markdown",
   "metadata": {},
   "source": [
    "## 1. Anonimització amb soroll\n",
    "\n",
    "Per poder començar a treballar amb el conjunt de dades farem una primera\n",
    "anonimització utilitzant soroll additiu de forma molt senzilla.\n",
    "\n",
    "### **Exercici 1** [10%]\n",
    "\n",
    "Afegiu soroll additiu a cadascuna de les 4 variables utilitzant una distribució normal\n",
    "$N(\\mu, \\sigma^2)$ amb $\\mu = 0$ i com variança prendrem $\\sigma^2 = p \\sigma_o^2$,\n",
    "on $\\sigma_o^2$ és la variança de la variable que volem protegir i $p$ és un paràmetre que\n",
    "determina la quantitat de soroll.\n",
    "\n",
    "Desenvolupeu una funció `noise_add_normal(df, p)` que rep com a paràmetre `df` el\n",
    "DataFrame a anonimitzar i el paràmetre `p`, i retorna una còpia del DataFrame protegit.\n",
    "\n",
    "Recordeu que:\n",
    "- cada variable (columna) tindrà una distribució de soroll independent.\n",
    "- la funció no pot modificar el DataFrame original.\n",
    "\n",
    "Finalment, genereu un DataFrame `df_noise_a` com la versió protegida de\n",
    "`df_company`, amb el paràmetre $p = 0.1$.\n",
    "\n",
    "*Nota*: funcions que us poden ser d'utilitat:\n",
    "- `numpy.random.Generator.normal`\n"
   ]
  },
  {
   "cell_type": "code",
   "execution_count": 41,
   "metadata": {},
   "outputs": [],
   "source": [
    "def noise_add_normal(df: pd.DataFrame, p: float) -> pd.DataFrame:\n",
    "    \n",
    "    df_noised = df.copy()\n",
    "\n",
    "    for columna in df_noised.columns:\n",
    "        var = df_noised[columna].var()\n",
    "        noise_std = np.sqrt(p * var)\n",
    "        noise = np.random.normal(loc=0, scale=noise_std, size=df_noised[columna].size)\n",
    "        df_noised[columna] += noise\n",
    "\n",
    "    return df_noised\n",
    "    \n"
   ]
  },
  {
   "cell_type": "code",
   "execution_count": 42,
   "metadata": {},
   "outputs": [
    {
     "data": {
      "text/html": [
       "<div>\n",
       "<style scoped>\n",
       "    .dataframe tbody tr th:only-of-type {\n",
       "        vertical-align: middle;\n",
       "    }\n",
       "\n",
       "    .dataframe tbody tr th {\n",
       "        vertical-align: top;\n",
       "    }\n",
       "\n",
       "    .dataframe thead th {\n",
       "        text-align: right;\n",
       "    }\n",
       "</style>\n",
       "<table border=\"1\" class=\"dataframe\">\n",
       "  <thead>\n",
       "    <tr style=\"text-align: right;\">\n",
       "      <th></th>\n",
       "      <th>ROA(C) before interest and depreciation before interest</th>\n",
       "      <th>ROA(B) before interest and depreciation after tax</th>\n",
       "      <th>Operating Gross Margin</th>\n",
       "      <th>Research and development expense rate</th>\n",
       "    </tr>\n",
       "  </thead>\n",
       "  <tbody>\n",
       "    <tr>\n",
       "      <th>0</th>\n",
       "      <td>0.372349</td>\n",
       "      <td>0.401478</td>\n",
       "      <td>0.599251</td>\n",
       "      <td>-3.521249e+08</td>\n",
       "    </tr>\n",
       "    <tr>\n",
       "      <th>1</th>\n",
       "      <td>0.470909</td>\n",
       "      <td>0.510582</td>\n",
       "      <td>0.608863</td>\n",
       "      <td>9.409478e+08</td>\n",
       "    </tr>\n",
       "    <tr>\n",
       "      <th>2</th>\n",
       "      <td>0.459972</td>\n",
       "      <td>0.448188</td>\n",
       "      <td>0.593124</td>\n",
       "      <td>1.440403e+08</td>\n",
       "    </tr>\n",
       "    <tr>\n",
       "      <th>3</th>\n",
       "      <td>0.410121</td>\n",
       "      <td>0.447449</td>\n",
       "      <td>0.583581</td>\n",
       "      <td>1.383951e+09</td>\n",
       "    </tr>\n",
       "    <tr>\n",
       "      <th>4</th>\n",
       "      <td>0.478535</td>\n",
       "      <td>0.532738</td>\n",
       "      <td>0.597864</td>\n",
       "      <td>-7.730394e+08</td>\n",
       "    </tr>\n",
       "  </tbody>\n",
       "</table>\n",
       "</div>"
      ],
      "text/plain": [
       "   ROA(C) before interest and depreciation before interest  \\\n",
       "0                                           0.372349         \n",
       "1                                           0.470909         \n",
       "2                                           0.459972         \n",
       "3                                           0.410121         \n",
       "4                                           0.478535         \n",
       "\n",
       "   ROA(B) before interest and depreciation after tax  Operating Gross Margin  \\\n",
       "0                                           0.401478                0.599251   \n",
       "1                                           0.510582                0.608863   \n",
       "2                                           0.448188                0.593124   \n",
       "3                                           0.447449                0.583581   \n",
       "4                                           0.532738                0.597864   \n",
       "\n",
       "   Research and development expense rate  \n",
       "0                          -3.521249e+08  \n",
       "1                           9.409478e+08  \n",
       "2                           1.440403e+08  \n",
       "3                           1.383951e+09  \n",
       "4                          -7.730394e+08  "
      ]
     },
     "execution_count": 42,
     "metadata": {},
     "output_type": "execute_result"
    }
   ],
   "source": [
    "df_noise_a = noise_add_normal(df_company, p=0.1)\n",
    "df_noise_a.head()\n"
   ]
  },
  {
   "cell_type": "markdown",
   "metadata": {},
   "source": [
    "### **Exercici 2** [10%]\n",
    "\n",
    "En aquest cas heu d'implementar soroll multiplicatiu utilitzant també una\n",
    "distribució normal. Utilitzarem una distribució normal\n",
    "$N(\\mu, \\sigma^2)$ on $\\mu = 1$ i $\\sigma^2 = p \\sigma^2_o$ on\n",
    "$\\sigma^2_o$ és la variança de la variable original i $p$ un paràmetre que\n",
    "determina la quantitat de soroll.\n",
    "\n",
    "Implementeu una funció `noise_mul_normal(df, p)` que rep com a paràmetre\n",
    "`df` el DataFrame a anonimitzar i el paràmetre` p`, i retorna una còpia del\n",
    "DataFrame protegit. De la mateixa manera que en el cas additiu, recordeu que:\n",
    "- cada variable (columna) tindrà una distribució de soroll independent.\n",
    "- la funció no pot modificar el DataFrame original.\n",
    "\n",
    "Finalment, genereu una versió protegida de les dades amb el paràmetre\n",
    "$p = 0.1$ i la guardeu a la variable `df_noise_m`."
   ]
  },
  {
   "cell_type": "code",
   "execution_count": 43,
   "metadata": {},
   "outputs": [],
   "source": [
    "def noise_mul_normal(df: pd.DataFrame, p: float) -> pd.DataFrame:\n",
    "    df_noised = df.copy()\n",
    "\n",
    "    for columna in df_noised.columns:\n",
    "        var = df_noised[columna].var()\n",
    "        noise_std = np.sqrt(p * var)\n",
    "        noise = np.random.normal(loc=1.0, scale=noise_std, size=df_noised[columna].size)\n",
    "        df_noised[columna] *= noise\n",
    "\n",
    "    return df_noised\n",
    "    \n"
   ]
  },
  {
   "cell_type": "code",
   "execution_count": 44,
   "metadata": {},
   "outputs": [
    {
     "data": {
      "text/html": [
       "<div>\n",
       "<style scoped>\n",
       "    .dataframe tbody tr th:only-of-type {\n",
       "        vertical-align: middle;\n",
       "    }\n",
       "\n",
       "    .dataframe tbody tr th {\n",
       "        vertical-align: top;\n",
       "    }\n",
       "\n",
       "    .dataframe thead th {\n",
       "        text-align: right;\n",
       "    }\n",
       "</style>\n",
       "<table border=\"1\" class=\"dataframe\">\n",
       "  <thead>\n",
       "    <tr style=\"text-align: right;\">\n",
       "      <th></th>\n",
       "      <th>ROA(C) before interest and depreciation before interest</th>\n",
       "      <th>ROA(B) before interest and depreciation after tax</th>\n",
       "      <th>Operating Gross Margin</th>\n",
       "      <th>Research and development expense rate</th>\n",
       "    </tr>\n",
       "  </thead>\n",
       "  <tbody>\n",
       "    <tr>\n",
       "      <th>0</th>\n",
       "      <td>0.381170</td>\n",
       "      <td>0.411457</td>\n",
       "      <td>0.599053</td>\n",
       "      <td>0.000000e+00</td>\n",
       "    </tr>\n",
       "    <tr>\n",
       "      <th>1</th>\n",
       "      <td>0.467221</td>\n",
       "      <td>0.522145</td>\n",
       "      <td>0.611645</td>\n",
       "      <td>0.000000e+00</td>\n",
       "    </tr>\n",
       "    <tr>\n",
       "      <th>2</th>\n",
       "      <td>0.430518</td>\n",
       "      <td>0.462773</td>\n",
       "      <td>0.600913</td>\n",
       "      <td>-9.168937e+14</td>\n",
       "    </tr>\n",
       "    <tr>\n",
       "      <th>3</th>\n",
       "      <td>0.407518</td>\n",
       "      <td>0.470138</td>\n",
       "      <td>0.583500</td>\n",
       "      <td>-0.000000e+00</td>\n",
       "    </tr>\n",
       "    <tr>\n",
       "      <th>4</th>\n",
       "      <td>0.458039</td>\n",
       "      <td>0.522458</td>\n",
       "      <td>0.595579</td>\n",
       "      <td>0.000000e+00</td>\n",
       "    </tr>\n",
       "  </tbody>\n",
       "</table>\n",
       "</div>"
      ],
      "text/plain": [
       "   ROA(C) before interest and depreciation before interest  \\\n",
       "0                                           0.381170         \n",
       "1                                           0.467221         \n",
       "2                                           0.430518         \n",
       "3                                           0.407518         \n",
       "4                                           0.458039         \n",
       "\n",
       "   ROA(B) before interest and depreciation after tax  Operating Gross Margin  \\\n",
       "0                                           0.411457                0.599053   \n",
       "1                                           0.522145                0.611645   \n",
       "2                                           0.462773                0.600913   \n",
       "3                                           0.470138                0.583500   \n",
       "4                                           0.522458                0.595579   \n",
       "\n",
       "   Research and development expense rate  \n",
       "0                           0.000000e+00  \n",
       "1                           0.000000e+00  \n",
       "2                          -9.168937e+14  \n",
       "3                          -0.000000e+00  \n",
       "4                           0.000000e+00  "
      ]
     },
     "execution_count": 44,
     "metadata": {},
     "output_type": "execute_result"
    }
   ],
   "source": [
    "df_noise_m = noise_mul_normal(df_company, p=0.1)\n",
    "df_noise_m.head()\n"
   ]
  },
  {
   "cell_type": "markdown",
   "metadata": {
    "pycharm": {
     "name": "#%% md\n"
    }
   },
   "source": [
    "## 2. Mesures de pèrdua d'informació\n",
    "\n",
    "### **Exercici 3** [20%]\n",
    "\n",
    "En aquest exercici desenvoluparem diverses mesures de pèrdua d'informació.\n",
    "Per a això utilitzarem la següent notació:\n",
    "- $X$: conjunt de dades original. El podem interpretar com una matriu de\n",
    "mida $n \\times d$ on $n$ és el nombre de registres (files) i $d$ el\n",
    "nombre de variables o atributs (columnes).\n",
    "- $X'$: conjunt de dades protegit, també $n \\times d$.\n",
    "- $R$: matriu de correlació de les dades originals $X$. Aquesta matriu és una\n",
    "matriu $d \\times d$ on l'element $(i, j)$ és la correlació entre la\n",
    "variable $V_i$ i $V_j$. Com a mesura de correlació prendrem el coeficient de\n",
    "correlació de Pearson.\n",
    "- $R'$: matriu de correlació de les dades protegides $X'$.\n",
    "\n",
    "En cada cas mesurarem la mitjana de l'error absolut MAE (*mean absolute error*)\n",
    "i la mitjana de l'error relatiu MRE (*mean relative error*). És a dir:\n",
    "- Sobre $X$, $X'$:\n",
    "  - *MAE*: $\\frac{1}{nd}\\sum_{j=1}^d \\sum_{i=1}^n \\mid x_{ij} - x'_{ij} \\mid$\n",
    "  - *MRE*: $\\frac{1}{nd}\\sum_{j=1}^d \\sum_{i=1}^n \\frac{\\mid x_{ij} - x'_{ij} \\mid}{\\mid x_{ij}\\mid}$\n",
    "- Sobre $R$, $R'$:\n",
    "  - *MAE*: $\\frac{1}{d^2}\\sum_{j=1}^d \\sum_{i=1}^n \\mid r_{ij} - r'_{ij} \\mid$\n",
    "  - *MRE*: $\\frac{1}{d^2}\\sum_{j=1}^d \\sum_{i=1}^n \\frac{\\mid r_{ij} - r'_{ij} \\mid}{\\mid r_{ij}\\mid}$\n",
    "\n",
    "Es demana que implementeu la funció\n",
    "`information_loss(df_original, df_protected)` on `df_original` és el\n",
    "DataFrame amb les dades originals ($X$) i `df_protected` el DataFrame amb les\n",
    "dades protegides ($X'$). La funció ha de retornar un diccionari de Python\n",
    "amb els següents camps:\n",
    "- `'data-mae'`: valor del MAE sobre $X$ i $X'$\n",
    "- `'data-mre'`: valor del MRE sobre $X$ i $X'$\n",
    "- `'corr-mae'`: valor del MAE sobre $R$ i $R'$\n",
    "- `'corr-mre'`: valor del MRE sobre $R$ i $R'$\n",
    "\n",
    "Por exemple,\n",
    "\n",
    "```\n",
    "{\n",
    "  'data-mae': 52604277.58657338,\n",
    "  'data-mre': 0.003232,\n",
    "  'corr-mae': 0.0023844305276822485,\n",
    "  'corr-mre': 0.0201830985522146\n",
    "}\n",
    "```\n",
    "\n",
    "**Nota**: El càlcul de MRE pot donar lloc a divisions per zero i, per tant, a valors d'error (NaN) o infinits. No cal que feu res al respecte.\n",
    "\n",
    "Funcions que us poden ser d'utilitat:\n",
    "- `pandas.DataFrame.corr`"
   ]
  },
  {
   "cell_type": "code",
   "execution_count": 55,
   "metadata": {
    "pycharm": {
     "name": "#%%\n"
    }
   },
   "outputs": [
    {
     "name": "stdout",
     "output_type": "stream",
     "text": [
      "Información pérdida con ruido aditivo (p=0.1):\n",
      "data-mae: 161433349.952075\n",
      "data-mre: inf\n",
      "corr-mae: 0.021585\n",
      "corr-mre: 0.071407\n",
      "\n",
      "Información pérdida con ruido multiplicativo (p=0.1):\n",
      "data-mae: 324243004293575680.000000\n",
      "data-mre: 138532335.526725\n",
      "corr-mae: 0.035503\n",
      "corr-mre: 0.360468\n"
     ]
    }
   ],
   "source": [
    "def information_loss(df_original: pd.DataFrame, df_protected: pd.DataFrame) -> Dict[str, float]:\n",
    "    X = df_original.to_numpy()\n",
    "    X_ = df_protected.to_numpy()\n",
    "\n",
    "    data_mae = float(np.mean(np.abs(X - X_)))\n",
    "\n",
    "    with np.errstate(divide='ignore', invalid='ignore'):\n",
    "        relative_error = np.abs((X - X_) / X)\n",
    "        data_mre = float(np.nanmean(relative_error))\n",
    "\n",
    "    R = pd.DataFrame(X).corr().to_numpy()\n",
    "    R_ = pd.DataFrame(X_).corr().to_numpy()\n",
    "\n",
    "    with np.errstate(divide='ignore', invalid='ignore'):\n",
    "        corr_mae = float(np.mean(np.abs(R - R_)))\n",
    "        corr_mre = float(np.nanmean(np.abs((R - R_) / R)))\n",
    "\n",
    "    return {\n",
    "        'data-mae': data_mae,\n",
    "        'data-mre': data_mre,\n",
    "        'corr-mae': corr_mae,\n",
    "        'corr-mre': corr_mre,\n",
    "    }\n",
    "    \n",
    "\n",
    "loss_dict = information_loss(df_company, df_noise_a)\n",
    "loss_dict2 = information_loss(df_company, df_noise_m)  \n",
    "\n",
    "print(\"Información pérdida con ruido aditivo (p=0.1):\")\n",
    "for k, v in loss_dict.items():\n",
    "    print(f\"{k}: {v:.6f}\")\n",
    "\n",
    "print(\"\\nInformación pérdida con ruido multiplicativo (p=0.1):\")\n",
    "for k, v in loss_dict2.items():\n",
    "    print(f\"{k}: {v:.6f}\")"
   ]
  },
  {
   "cell_type": "markdown",
   "metadata": {},
   "source": [
    "## **Exercici 4** [5%]\n",
    "\n",
    "Ara podem calcular la pèrdua d'informació obtinguda a l'aplicar el soroll\n",
    "additiu i multiplicatiu anterior (recordem que l'hem aplicat en els dos\n",
    "casos amb el paràmetre $p = 0.1$).\n",
    "\n",
    "- Mostra els valors de pèrdua d'informació en cada cas per `df_noise_a`\n",
    "i `df_noise_m`.\n",
    "- Mostra de forma gràfica la pèrdua d'informació a l'aplicar soroll additiu\n",
    "a `df_company` amb valors de $p$ entre $0.1$ i $1.0$ amb un decimal. És a dir, per\n",
    "$p = [0.1, 0.2, 0.3, 0.4, 0.5, 0.6, 0.7, 0.8, 0.9, 1.0]$.\n",
    "\n",
    "*Nota*:\n",
    "\n",
    "Per poder mostrar els resultats de pèrdua d'informació estaria bé poder\n",
    "visualitzar les mesures en un gràfic. Per això us proposem utilitzar la\n",
    "llibreria `seaborn` (que podem importar com` sns`). Per exemple, suposem\n",
    "que mesurem la pèrdua d'informació a l'aplicar soroll additiu amb diferents\n",
    "valors de `p`. En aquest cas, tindrem una llista de diccionaris de python\n",
    "amb la pèrdua d'informació per a cada cas. Per exemple, de forma\n",
    "simplificada podem tenir la llista següent per als valors de `p` 1 i 2:\n",
    "\n",
    "```\n",
    "inf_loss_data = [\n",
    "  {\n",
    "    'p': 1,\n",
    "    'data-mae': 0.1,\n",
    "    'data-mre': 0.01,\n",
    "    'corr-mae': 0.2,\n",
    "    'corr-mre': 0.02\n",
    "  },\n",
    "  {\n",
    "    'p': 2,\n",
    "    'data-mae': 0.11,\n",
    "    'data-mre': 0.011,\n",
    "    'corr-mae': 0.22,\n",
    "    'corr-mre': 0.022\n",
    "  }\n",
    "]\n",
    "```\n",
    "que podríem mostrar amb la següent funció:"
   ]
  },
  {
   "cell_type": "code",
   "execution_count": 46,
   "metadata": {
    "pycharm": {
     "name": "#%%\n"
    }
   },
   "outputs": [],
   "source": [
    "def plot_information_loss(inf_loss_data: List[Dict[str,float]]):\n",
    "    df = pd.DataFrame(inf_loss_data)\n",
    "    melted = df.melt('p', var_name='cols', value_name='vals')\n",
    "    g = sns.relplot(data=melted, x='p', y='vals', kind='line', col='cols',\n",
    "                    col_wrap=2, facet_kws=dict(sharey=False))\n",
    "    return g"
   ]
  },
  {
   "cell_type": "code",
   "execution_count": null,
   "metadata": {},
   "outputs": [
    {
     "name": "stdout",
     "output_type": "stream",
     "text": [
      "{'data-mae': 161433349.95207483, 'data-mre': inf, 'corr-mae': 0.021584949549521424, 'corr-mre': 0.07140671064326008}\n",
      "{'data-mae': 3.242430042935757e+17, 'data-mre': 138532335.52672544, 'corr-mae': 0.03550316468078871, 'corr-mre': 0.3604675859456279}\n"
     ]
    },
    {
     "data": {
      "text/plain": [
       "<seaborn.axisgrid.FacetGrid at 0x78df0f24fe50>"
      ]
     },
     "execution_count": 47,
     "metadata": {},
     "output_type": "execute_result"
    },
    {
     "data": {
      "image/png": "[encoded data removed]",
      "text/plain": [
       "<Figure size 1000x1000 with 4 Axes>"
      ]
     },
     "metadata": {},
     "output_type": "display_data"
    }
   ],
   "source": [
    "print(information_loss(df_company, df_noise_a))\n",
    "print(information_loss(df_company, df_noise_m))\n",
    "\n",
    "info_loss = []\n",
    "\n",
    "for p in np.arange(0.1, 1.1, 0.1):\n",
    "    df_r = noise_add_normal(df_company, p)\n",
    "    loss = information_loss(df_company, df_r)\n",
    "    loss['p'] = float(p)\n",
    "    info_loss.append(loss)\n",
    "\n",
    "plot_information_loss(info_loss)\n",
    "\n"
   ]
  },
  {
   "cell_type": "markdown",
   "metadata": {
    "pycharm": {
     "name": "#%% md\n"
    }
   },
   "source": [
    "## **Exercici 5** [10%]\n",
    "\n",
    "Per solucionar el problema que tenim en el càlcul del MRE, utilitzarem\n",
    "una altra mesura d'error relatiu. Concretament utilitzarem un percentatge sobre\n",
    "l'error absolut. Generalment rep el nom de Symmetric Mean Absolute\n",
    "Percentage Error (SMAPE) i es pot calcular de diverses maneres. En el nostre\n",
    "cas utilitzarem la següent.\n",
    "\n",
    "Donades dues matrius $X$ i $X'$ com les que hem anat treballant en aquests\n",
    "exercicis:\n",
    "- *MRE-2*: $100 \\cdot \\frac{\\sum_{j=1}^p \\sum_{i=1}^n \\mid x_{ij} - x'_{ij} \\mid}{\\sum_{j=1}^p \\sum_{i=1}^n (x_{ij} + x'_{ij})}$\n",
    "\n",
    "Implementeu una nova funció `information_loss_2` de manera anàloga a\n",
    "l'anterior però que utilitzi aquesta nova mesura de MRE-2 tant per al càlcul de\n",
    "`data-mre` com el de `corr-mre`.\n",
    "\n",
    "Amb aquesta nova funció torneu a calcular la pèrdua d'informació obtinguda\n",
    "a l'aplicar soroll additiu i multiplicatiu anterior:\n",
    "\n",
    "- Mostra els valors de pèrdua d'informació en cada cas per `df_noise_a`\n",
    "i `df_noise_m`.\n",
    "\n",
    "- Mostra de forma gràfica la pèrdua d'informació a l'aplicar soroll additiu\n",
    "a `df_company` amb valors de $p$ entre $0.1$ i $1.0$ amb un decimal. És a dir, per\n",
    "$p = [0.1, 0.2, 0.3, 0.4, 0.5, 0.6, 0.7, 0.8, 0.9, 1.0]$."
   ]
  },
  {
   "cell_type": "code",
   "execution_count": null,
   "metadata": {
    "pycharm": {
     "name": "#%%\n"
    }
   },
   "outputs": [],
   "source": [
    "def information_loss_2(df_original: pd.DataFrame, df_protected: pd.DataFrame) -> Dict[str, float]:\n",
    "    X = df_original.to_numpy()\n",
    "    X_ = df_protected.to_numpy()\n",
    "\n",
    "    data_mae = float(np.mean(np.abs(X - X_)))\n",
    "\n",
    "    with np.errstate(divide='ignore', invalid='ignore'):\n",
    "        denominator = np.abs(X) + np.abs(X_)\n",
    "        smape = np.abs(X - X_) / denominator\n",
    "        data_mre2 = float(100 * np.nanmean(smape))\n",
    "        \n",
    "    R = pd.DataFrame(X).corr().to_numpy()\n",
    "    R_ = pd.DataFrame(X_).corr().to_numpy()\n",
    "    corr_mae = float(np.mean(np.abs(R - R_)))\n",
    "\n",
    "    with np.errstate(divide='ignore', invalid='ignore'):\n",
    "        denominator_corr = np.abs(R) + np.abs(R_)\n",
    "        smape_corr = np.abs(R - R_) / denominator_corr\n",
    "        corr_mre2 = float(100 * np.nanmean(smape_corr))\n",
    "\n",
    "    return {\n",
    "        'data-mae': data_mae,\n",
    "        'data-mre': data_mre2,\n",
    "        'corr-mae': corr_mae,\n",
    "        'corr-mre': corr_mre2,\n",
    "    }\n",
    "\n"
   ]
  },
  {
   "cell_type": "code",
   "execution_count": null,
   "metadata": {},
   "outputs": [
    {
     "name": "stdout",
     "output_type": "stream",
     "text": [
      "{'data-mae': 161433349.95207483, 'data-mre': 14.485479542063223, 'corr-mae': 0.021584949549521424, 'corr-mre': 3.8356124081696676}\n",
      "{'data-mae': 3.242430042935757e+17, 'data-mre': 21.334220469036072, 'corr-mae': 0.03550316468078871, 'corr-mre': 32.62588968431286}\n"
     ]
    },
    {
     "data": {
      "text/plain": [
       "<seaborn.axisgrid.FacetGrid at 0x78df0e88d9c0>"
      ]
     },
     "execution_count": 49,
     "metadata": {},
     "output_type": "execute_result"
    },
    {
     "data": {
      "image/png": "[encoded data removed]",
      "text/plain": [
       "<Figure size 1000x1000 with 4 Axes>"
      ]
     },
     "metadata": {},
     "output_type": "display_data"
    }
   ],
   "source": [
    "\n",
    "print(information_loss_2(df_company, df_noise_a))\n",
    "print(information_loss_2(df_company, df_noise_m))\n",
    "\n",
    "# Càlcul per a p ∈ [0.1, 0.2, ..., 1.0]\n",
    "info_loss = []\n",
    "\n",
    "for p in np.arange(0.1, 1.1, 0.1):\n",
    "    df_r = noise_add_normal(df_company, p)\n",
    "    loss = information_loss_2(df_company, df_r)\n",
    "    loss['p'] = float(p)\n",
    "    info_loss.append(loss)\n",
    "\n",
    "plot_information_loss(info_loss)\n",
    "\n"
   ]
  },
  {
   "cell_type": "markdown",
   "metadata": {},
   "source": [
    "## **3. K-anonimitat**\n",
    "\n",
    "En aquest exercici, treballarem amb un conjunt de dades (`diabetes.csv`) que conté dos variables que podríem considerar quasi-identificadors: edat (`AGE`) i pes (`WEIGHT`). Per tal d'evitar possibles riscos de privacitat mitjançant el creuament amb altres conjunts de dades, aplicarem k-anonimitat a aquest dataset d'entrada utilitzant **microagregació**:\n",
    "\n",
    " * Primer, haureu de generar un nou dataset on cada parella edat-pes es repeteixi en, com a mínim, 4 elements del conjunt de dades (k=4)\n",
    " \n",
    " * En segon lloc, generarem un nou dataset on cada parella edat-pes es repeteixi en, com a mínim, 2 elements (k=2)\n",
    " \n",
    " * En tercer lloc, calcularem la pèrdua d'informació que hem introduït en aquests dos nous datasets mitjançant els errors absoluts i els errors relatius vistos anteriorment.\n",
    "\n",
    "En un entorn real, els algorismes habituals que s'utilitzen per aplicar k-anonimitat a un dataset són MDAV o Mondrian. En aquesta pràctica, però, utilitzarem un mètode més senzill perquè pugueu veure un exemple fàcil de com aplicar aquest tipus de protecció."
   ]
  },
  {
   "cell_type": "code",
   "execution_count": 50,
   "metadata": {},
   "outputs": [
    {
     "name": "stdout",
     "output_type": "stream",
     "text": [
      "<class 'pandas.core.frame.DataFrame'>\n",
      "RangeIndex: 444 entries, 0 to 443\n",
      "Data columns (total 12 columns):\n",
      " #   Column  Non-Null Count  Dtype  \n",
      "---  ------  --------------  -----  \n",
      " 0   ID      444 non-null    int64  \n",
      " 1   AGE     444 non-null    int64  \n",
      " 2   WEIGHT  444 non-null    float64\n",
      " 3   BMI     444 non-null    float64\n",
      " 4   BP      444 non-null    float64\n",
      " 5   S1      444 non-null    int64  \n",
      " 6   S2      444 non-null    float64\n",
      " 7   S3      444 non-null    float64\n",
      " 8   S4      444 non-null    float64\n",
      " 9   S5      444 non-null    float64\n",
      " 10  S6      444 non-null    int64  \n",
      " 11  Y       444 non-null    int64  \n",
      "dtypes: float64(7), int64(5)\n",
      "memory usage: 41.8 KB\n"
     ]
    }
   ],
   "source": [
    "df_diabetes = pd.read_csv(\"data/diabetes.csv\")\n",
    "df_diabetes.info()"
   ]
  },
  {
   "cell_type": "markdown",
   "metadata": {},
   "source": [
    "### Exercici 6 [25%]\n",
    "\n",
    "En aquest exercici, generarem un nou dataset amb k=4 aplicant microagregació a les variables edat i pes. Per a fer-ho, agregarem primer la variable pes en subconjunts de 20 elements, i després aplicarem microagregació a cada subconjunt resultant a partir de la variable edat, generant nous subconjunts de 4 elements.\n",
    "\n",
    "A continuació, detallem els passos que podeu seguir.\n",
    "\n",
    "1. Ordeneu el dataset per la variable 'WEIGHT'\n",
    "1. Calculeu la mitjana del pes per als primers 20 elements del conjunt.\n",
    "1. Assigneu el valor de la mitjana obtinguda a tots els 20 elements d'aquest subconjunt.\n",
    "1. Apliqueu el mateix procediment a la resta dels subconjunts de 20 elements del dataset.\n",
    "\n",
    "Amb aquestes operacions, haureu obtingut un nou dataset amb la microagregació de la variable pes en conjunts de 20 elements (k=20). A continuació, seguiu els següents passos per fer el mateix sobre la variable edat.\n",
    "\n",
    "1. Ordeneu ara el dataset per les variables 'WEIGHT' i 'AGE'\n",
    "1. Calculeu la mitjana de l'edat per als primers 4 elements del conjunt.\n",
    "1. Assigneu el valor de la mitjana obtingut a tots els 4 elements d'aquest subconjunt.\n",
    "1. Apliqueu el mateix procediment a la resta dels subconjunts de 4 elements del dataset."
   ]
  },
  {
   "cell_type": "code",
   "execution_count": 67,
   "metadata": {},
   "outputs": [
    {
     "data": {
      "text/html": [
       "<div>\n",
       "<style scoped>\n",
       "    .dataframe tbody tr th:only-of-type {\n",
       "        vertical-align: middle;\n",
       "    }\n",
       "\n",
       "    .dataframe tbody tr th {\n",
       "        vertical-align: top;\n",
       "    }\n",
       "\n",
       "    .dataframe thead th {\n",
       "        text-align: right;\n",
       "    }\n",
       "</style>\n",
       "<table border=\"1\" class=\"dataframe\">\n",
       "  <thead>\n",
       "    <tr style=\"text-align: right;\">\n",
       "      <th></th>\n",
       "      <th>AGE</th>\n",
       "      <th>WEIGHT</th>\n",
       "    </tr>\n",
       "  </thead>\n",
       "  <tbody>\n",
       "    <tr>\n",
       "      <th>0</th>\n",
       "      <td>28.50</td>\n",
       "      <td>67.608832</td>\n",
       "    </tr>\n",
       "    <tr>\n",
       "      <th>1</th>\n",
       "      <td>28.50</td>\n",
       "      <td>67.608832</td>\n",
       "    </tr>\n",
       "    <tr>\n",
       "      <th>2</th>\n",
       "      <td>28.50</td>\n",
       "      <td>67.608832</td>\n",
       "    </tr>\n",
       "    <tr>\n",
       "      <th>3</th>\n",
       "      <td>28.50</td>\n",
       "      <td>67.608832</td>\n",
       "    </tr>\n",
       "    <tr>\n",
       "      <th>4</th>\n",
       "      <td>44.75</td>\n",
       "      <td>67.608832</td>\n",
       "    </tr>\n",
       "    <tr>\n",
       "      <th>...</th>\n",
       "      <td>...</td>\n",
       "      <td>...</td>\n",
       "    </tr>\n",
       "    <tr>\n",
       "      <th>439</th>\n",
       "      <td>60.75</td>\n",
       "      <td>102.334285</td>\n",
       "    </tr>\n",
       "    <tr>\n",
       "      <th>440</th>\n",
       "      <td>44.75</td>\n",
       "      <td>107.540365</td>\n",
       "    </tr>\n",
       "    <tr>\n",
       "      <th>441</th>\n",
       "      <td>44.75</td>\n",
       "      <td>107.540365</td>\n",
       "    </tr>\n",
       "    <tr>\n",
       "      <th>442</th>\n",
       "      <td>44.75</td>\n",
       "      <td>107.540365</td>\n",
       "    </tr>\n",
       "    <tr>\n",
       "      <th>443</th>\n",
       "      <td>44.75</td>\n",
       "      <td>107.540365</td>\n",
       "    </tr>\n",
       "  </tbody>\n",
       "</table>\n",
       "<p>444 rows × 2 columns</p>\n",
       "</div>"
      ],
      "text/plain": [
       "       AGE      WEIGHT\n",
       "0    28.50   67.608832\n",
       "1    28.50   67.608832\n",
       "2    28.50   67.608832\n",
       "3    28.50   67.608832\n",
       "4    44.75   67.608832\n",
       "..     ...         ...\n",
       "439  60.75  102.334285\n",
       "440  44.75  107.540365\n",
       "441  44.75  107.540365\n",
       "442  44.75  107.540365\n",
       "443  44.75  107.540365\n",
       "\n",
       "[444 rows x 2 columns]"
      ]
     },
     "execution_count": 67,
     "metadata": {},
     "output_type": "execute_result"
    }
   ],
   "source": [
    "df_sorted = df_diabetes.sort_values(by='WEIGHT').reset_index(drop=True)\n",
    "\n",
    "df_sorted['AGE'] = df_sorted['AGE'].astype(float)\n",
    "\n",
    "k1 = 20\n",
    "for i in range(0, len(df_sorted), k1):\n",
    "    subset = df_sorted.iloc[i:i+k1]\n",
    "    mean_weight = subset['WEIGHT'].mean()\n",
    "    df_sorted.loc[i:i+k1-1, 'WEIGHT'] = mean_weight\n",
    "\n",
    "df_sorted = df_sorted.sort_values(by=['WEIGHT', 'AGE']).reset_index(drop=True)\n",
    "\n",
    "k2 = 4\n",
    "for i in range(0, len(df_sorted), k2):\n",
    "    subset = df_sorted.iloc[i:i+k2]\n",
    "    mean_age = subset['AGE'].mean()\n",
    "    df_sorted.loc[i:i+k2-1, 'AGE'] = mean_age\n",
    "\n",
    "df_micro_k4 = df_sorted.copy()\n",
    "\n",
    "df_micro_k4[['AGE', 'WEIGHT']]\n"
   ]
  },
  {
   "cell_type": "markdown",
   "metadata": {},
   "source": [
    "### Exercici 8 [10%]\n",
    "\n",
    "En aquest exercici, mesurarem la mitjana de l'error absolut MAE (mean absolute error) i la mitjana de l'error relatiu MRE (mean relative error) de cadascun dels 2 nous datasets obtinguts en els exercicis anteriors. Utilitzarem la notació següent:\n",
    "\n",
    " * $X$: conjunt de dades original de pacients amb diabetis.\n",
    " * $X_4$: conjunt de dades 4-anònim obtingut en primer lloc (exercici 6).\n",
    " * $X_2$: conjunt de dades 2-anònim obtingut en segon lloc (exercici 7).\n",
    "\n",
    "Per a cadascun d'aquests 3 datasets, agafeu només el subconjunt de les variables `AGE` i `WEIGHT` i calculeu:\n",
    "\n",
    "- `'data_mae_k4'`: valor del MAE sobre $X$ i $X_4$\n",
    "- `'data_mre_k4'`: valor del MRE sobre $X$ i $X_4$\n",
    "- `'data_mae_k2'`: valor del MAE sobre $X$ i $X_2$\n",
    "- `'data_mre_k2'`: valor del MRE sobre $X$ i $X_2$"
   ]
  },
  {
   "cell_type": "markdown",
   "metadata": {},
   "source": [
    "### Exercici 7 [5%]\n",
    "\n",
    "Repetiu el procediment anterior per tal d'obtenir un nou dataset, a partir de l'original (`df_diabetes`), amb k=2."
   ]
  },
  {
   "cell_type": "code",
   "execution_count": 68,
   "metadata": {},
   "outputs": [
    {
     "data": {
      "text/html": [
       "<div>\n",
       "<style scoped>\n",
       "    .dataframe tbody tr th:only-of-type {\n",
       "        vertical-align: middle;\n",
       "    }\n",
       "\n",
       "    .dataframe tbody tr th {\n",
       "        vertical-align: top;\n",
       "    }\n",
       "\n",
       "    .dataframe thead th {\n",
       "        text-align: right;\n",
       "    }\n",
       "</style>\n",
       "<table border=\"1\" class=\"dataframe\">\n",
       "  <thead>\n",
       "    <tr style=\"text-align: right;\">\n",
       "      <th></th>\n",
       "      <th>AGE</th>\n",
       "      <th>WEIGHT</th>\n",
       "    </tr>\n",
       "  </thead>\n",
       "  <tbody>\n",
       "    <tr>\n",
       "      <th>0</th>\n",
       "      <td>47.0</td>\n",
       "      <td>61.648661</td>\n",
       "    </tr>\n",
       "    <tr>\n",
       "      <th>1</th>\n",
       "      <td>47.0</td>\n",
       "      <td>61.648661</td>\n",
       "    </tr>\n",
       "    <tr>\n",
       "      <th>2</th>\n",
       "      <td>60.0</td>\n",
       "      <td>63.375801</td>\n",
       "    </tr>\n",
       "    <tr>\n",
       "      <th>3</th>\n",
       "      <td>60.0</td>\n",
       "      <td>63.375801</td>\n",
       "    </tr>\n",
       "    <tr>\n",
       "      <th>4</th>\n",
       "      <td>51.0</td>\n",
       "      <td>66.073001</td>\n",
       "    </tr>\n",
       "    <tr>\n",
       "      <th>...</th>\n",
       "      <td>...</td>\n",
       "      <td>...</td>\n",
       "    </tr>\n",
       "    <tr>\n",
       "      <th>439</th>\n",
       "      <td>47.0</td>\n",
       "      <td>105.448756</td>\n",
       "    </tr>\n",
       "    <tr>\n",
       "      <th>440</th>\n",
       "      <td>49.5</td>\n",
       "      <td>106.812394</td>\n",
       "    </tr>\n",
       "    <tr>\n",
       "      <th>441</th>\n",
       "      <td>49.5</td>\n",
       "      <td>106.812394</td>\n",
       "    </tr>\n",
       "    <tr>\n",
       "      <th>442</th>\n",
       "      <td>40.0</td>\n",
       "      <td>108.268336</td>\n",
       "    </tr>\n",
       "    <tr>\n",
       "      <th>443</th>\n",
       "      <td>40.0</td>\n",
       "      <td>108.268336</td>\n",
       "    </tr>\n",
       "  </tbody>\n",
       "</table>\n",
       "<p>444 rows × 2 columns</p>\n",
       "</div>"
      ],
      "text/plain": [
       "      AGE      WEIGHT\n",
       "0    47.0   61.648661\n",
       "1    47.0   61.648661\n",
       "2    60.0   63.375801\n",
       "3    60.0   63.375801\n",
       "4    51.0   66.073001\n",
       "..    ...         ...\n",
       "439  47.0  105.448756\n",
       "440  49.5  106.812394\n",
       "441  49.5  106.812394\n",
       "442  40.0  108.268336\n",
       "443  40.0  108.268336\n",
       "\n",
       "[444 rows x 2 columns]"
      ]
     },
     "execution_count": 68,
     "metadata": {},
     "output_type": "execute_result"
    }
   ],
   "source": [
    "df_sorted_k2 = df_diabetes.sort_values(by='WEIGHT').reset_index(drop=True)\n",
    "df_sorted_k2['AGE'] = df_sorted_k2['AGE'].astype(float)\n",
    "\n",
    "k1 = 2\n",
    "for i in range(0, len(df_sorted_k2), k1):\n",
    "    subset = df_sorted_k2.iloc[i:i+k1]\n",
    "    mean_weight = subset['WEIGHT'].mean()\n",
    "    df_sorted_k2.loc[i:i+k1-1, 'WEIGHT'] = mean_weight\n",
    "\n",
    "df_sorted_k2 = df_sorted_k2.sort_values(by=['WEIGHT', 'AGE']).reset_index(drop=True)\n",
    "\n",
    "k2 = 2\n",
    "for i in range(0, len(df_sorted_k2), k2):\n",
    "    subset = df_sorted_k2.iloc[i:i+k2]\n",
    "    mean_age = subset['AGE'].mean()\n",
    "    df_sorted_k2.loc[i:i+k2-1, 'AGE'] = mean_age\n",
    "\n",
    "df_micro_k2 = df_sorted_k2.copy()\n",
    "df_micro_k2[['AGE', 'WEIGHT']]\n"
   ]
  },
  {
   "cell_type": "markdown",
   "metadata": {},
   "source": [
    "### Exercici 8 [10%]\n",
    "\n",
    "En aquest exercici, mesurarem la mitjana de l'error absolut MAE (mean absolute error) i la mitjana de l'error relatiu MRE (mean relative error) de cadascun dels 2 nous datasets obtinguts en els exercicis anteriors. Utilitzarem la notació següent:\n",
    "\n",
    " * $X$: conjunt de dades original de pacients amb diabetis.\n",
    " * $X_4$: conjunt de dades 4-anònim obtingut en primer lloc (exercici 6).\n",
    " * $X_2$: conjunt de dades 2-anònim obtingut en segon lloc (exercici 7).\n",
    "\n",
    "Per a cadascun d'aquests 3 datasets, agafeu només el subconjunt de les variables `AGE` i `WEIGHT` i calculeu:\n",
    "\n",
    "- `'data_mae_k4'`: valor del MAE sobre $X$ i $X_4$\n",
    "- `'data_mre_k4'`: valor del MRE sobre $X$ i $X_4$\n",
    "- `'data_mae_k2'`: valor del MAE sobre $X$ i $X_2$\n",
    "- `'data_mre_k2'`: valor del MRE sobre $X$ i $X_2$"
   ]
  },
  {
   "cell_type": "code",
   "execution_count": 69,
   "metadata": {},
   "outputs": [
    {
     "name": "stdout",
     "output_type": "stream",
     "text": [
      "data_mae_k4: 12.065355501451842\n",
      "data_mre_k4: 0.2276401923130362\n",
      "data_mae_k2: 11.279631916584764\n",
      "data_mre_k2: 0.21236560577281086\n"
     ]
    }
   ],
   "source": [
    "X = df_diabetes[['AGE', 'WEIGHT']].to_numpy()\n",
    "X_k4 = df_micro_k4[['AGE', 'WEIGHT']].to_numpy()\n",
    "X_k2 = df_micro_k2[['AGE', 'WEIGHT']].to_numpy()\n",
    "\n",
    "data_mae_k4 = float(np.mean(np.abs(X - X_k4)))\n",
    "data_mae_k2 = float(np.mean(np.abs(X - X_k2)))\n",
    "\n",
    "with np.errstate(divide='ignore', invalid='ignore'):\n",
    "    data_mre_k4 = float(np.nanmean(np.abs((X - X_k4) / X)))\n",
    "    data_mre_k2 = float(np.nanmean(np.abs((X - X_k2) / X)))\n",
    "\n",
    "print(\"data_mae_k4:\", data_mae_k4)\n",
    "print(\"data_mre_k4:\", data_mre_k4)\n",
    "print(\"data_mae_k2:\", data_mae_k2)\n",
    "print(\"data_mre_k2:\", data_mre_k2)\n"
   ]
  },
  {
   "cell_type": "markdown",
   "metadata": {},
   "source": [
    "### Exercici 9 [5%]\n",
    "\n",
    "Feu una reflexió sobre el nivell de privacitat obtingut amb $X_4$ i $X_2$, contrastant-ho amb la pèrdua d'informació introduïda."
   ]
  },
  {
   "cell_type": "markdown",
   "metadata": {},
   "source": [
    "\n",
    "Quan augmentem el valor de k (per exemple, k=4), la privacitat incrementa perquè cada combinació d’edat i pes és compartida per almenys 4 individus, fet que dificulta la identificació d’una persona concreta. No obstant això, això també implica una distorsió més gran de les dades originals, la qual cosa es reflecteix en un error absolut i relatiu més elevat.\n",
    "\n",
    "Amb k=2, la distorsió és menor i la informació és més precisa, però la privacitat és més baixa, ja que només hi ha dos individus per grup. Per tant, existeix un compromís entre privacitat i utilitat de les dades: a major privacitat (k més gran), més pèrdua d’informació."
   ]
  }
 ],
 "metadata": {
  "celltoolbar": "Edit Metadata",
  "kernelspec": {
   "display_name": "Python 3",
   "language": "python",
   "name": "python3"
  },
  "language_info": {
   "codemirror_mode": {
    "name": "ipython",
    "version": 3
   },
   "file_extension": ".py",
   "mimetype": "text/x-python",
   "name": "python",
   "nbconvert_exporter": "python",
   "pygments_lexer": "ipython3",
   "version": "3.10.12"
  },
  "name": "practica-1-es.ipynb"
 },
 "nbformat": 4,
 "nbformat_minor": 4
}
